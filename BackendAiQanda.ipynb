from fastapi import FastAPI, UploadFile, File, HTTPException
from fastapi.responses import JSONResponse
import os
import openai
import pandas as pd
from pydantic import BaseModel

# Initialize FastAPI application
app = FastAPI()

# Directory where uploaded files will be stored
UPLOAD_DIRECTORY = "uploaded_documents"
os.makedirs(UPLOAD_DIRECTORY, exist_ok=True)

# Set the OpenAI API key directly in the code (This is a placeholder; please secure it properly)
# Replace 'your-openai-api-key-here' with your actual API key from OpenAI
openai.api_key = "your-openai-api-key-here"  # Commented here for reference, do not hardcode in production

# Request body model for asking a question
class UserQuery(BaseModel):
    document_name: str
    question: str

def extract_text_from_excel(file_path):
    """Extract readable text from an Excel document and combine it into a single string."""
    document_data = pd.read_excel(file_path)
    return "\n".join(document_data.astype(str).values.flatten())

@app.post("/upload/")
async def upload_document(file: UploadFile = File(..., max_length=100000000)):  # 100MB max upload limit
    """Handles the upload of the document and stores it on the server."""
    document_path = os.path.join(UPLOAD_DIRECTORY, file.filename)
    
    # Write the uploaded document to disk
    with open(document_path, "wb") as file_buffer:
        file_buffer.write(await file.read())
    
    # Return response indicating successful upload
    return {"document_name": file.filename, "message": "Document uploaded successfully"}

@app.post("/ask/")
async def answer_user_question(query: UserQuery):
    """Processes the user's question and generates an answer based on the content of the uploaded document."""
    document_path = os.path.join(UPLOAD_DIRECTORY, query.document_name)
    
    # Check if the requested document exists
    if not os.path.exists(document_path):
        return JSONResponse(status_code=404, content={"error": "Document not found"})
    
    # Read the content of the document (assuming it's an Excel file)
    if query.document_name.endswith(".xlsx"):
        document_content = extract_text_from_excel(document_path)
    else:
        with open(document_path, "r", encoding="utf-8") as file:
            document_content = file.read()

    # Use OpenAI's model to generate an answer based on the document content
    openai_response = openai.Completion.create(
        model="text-davinci-003",  # Can be adjusted to another model
        prompt=f"Answer the following question based on the content of this document:\n\n{document_content}\n\nQuestion: {query.question}",
        max_tokens=200
    )
    
    # Extract the answer from the OpenAI response
    answer = openai_response.choices[0].text.strip()
    
    # Return the answer to the user
    return {"answer": answer}
